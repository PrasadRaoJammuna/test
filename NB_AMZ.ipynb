{
  "nbformat": 4,
  "nbformat_minor": 0,
  "metadata": {
    "colab": {
      "name": "NB-AMZ.ipynb",
      "version": "0.3.2",
      "provenance": [],
      "collapsed_sections": [],
      "include_colab_link": true
    },
    "kernelspec": {
      "name": "python3",
      "display_name": "Python 3"
    }
  },
  "cells": [
    {
      "cell_type": "markdown",
      "metadata": {
        "id": "view-in-github",
        "colab_type": "text"
      },
      "source": [
        "<a href=\"https://colab.research.google.com/github/PrasadRaoJammuna/test/blob/master/NB_AMZ.ipynb\" target=\"_parent\"><img src=\"https://colab.research.google.com/assets/colab-badge.svg\" alt=\"Open In Colab\"/></a>"
      ]
    },
    {
      "cell_type": "code",
      "metadata": {
        "id": "Rvqdcmcd1PQI",
        "colab_type": "code",
        "colab": {}
      },
      "source": [
        "%matplotlib inline\n",
        "import warnings\n",
        "warnings.filterwarnings(\"ignore\")\n",
        "\n",
        "\n",
        "\n",
        "import pandas as pd\n",
        "import numpy as np\n",
        "import nltk\n",
        "import string\n",
        "import matplotlib.pyplot as plt\n",
        "plt.style.use('fivethirtyeight')\n",
        "import seaborn as sns\n",
        "\n",
        "from bs4 import BeautifulSoup\n",
        "\n",
        "from sklearn.feature_extraction.text import TfidfTransformer\n",
        "from sklearn.feature_extraction.text import TfidfVectorizer\n",
        "from sklearn.feature_extraction.text import CountVectorizer\n",
        "\n",
        "from sklearn.metrics import confusion_matrix\n",
        "from sklearn.metrics import roc_curve, auc,accuracy_score,roc_auc_score\n",
        "\n",
        "from sklearn.model_selection import train_test_split,cross_val_score,GridSearchCV\n",
        "#from sklearn.preprocessing import StandardScaler\n",
        "from sklearn.naive_bayes import MultinomialNB\n",
        "\n",
        "import re\n",
        "# Tutorial about Python regular expressions: https://pymotw.com/2/re/\n",
        "\n",
        "from nltk.corpus import stopwords\n",
        "from gensim.models import Word2Vec\n",
        "from tqdm import tqdm\n"
      ],
      "execution_count": 0,
      "outputs": []
    },
    {
      "cell_type": "code",
      "metadata": {
        "id": "OjQ8Q5eO2P4f",
        "colab_type": "code",
        "outputId": "082bf23d-73a9-49cb-f0f0-c3f9a5536019",
        "colab": {
          "base_uri": "https://localhost:8080/",
          "height": 145
        }
      },
      "source": [
        "data = pd.read_csv('Reviews.csv', error_bad_lines=False)\n",
        "data.head(2)"
      ],
      "execution_count": 0,
      "outputs": [
        {
          "output_type": "execute_result",
          "data": {
            "text/html": [
              "<div>\n",
              "<style scoped>\n",
              "    .dataframe tbody tr th:only-of-type {\n",
              "        vertical-align: middle;\n",
              "    }\n",
              "\n",
              "    .dataframe tbody tr th {\n",
              "        vertical-align: top;\n",
              "    }\n",
              "\n",
              "    .dataframe thead th {\n",
              "        text-align: right;\n",
              "    }\n",
              "</style>\n",
              "<table border=\"1\" class=\"dataframe\">\n",
              "  <thead>\n",
              "    <tr style=\"text-align: right;\">\n",
              "      <th></th>\n",
              "      <th>Id</th>\n",
              "      <th>ProductId</th>\n",
              "      <th>UserId</th>\n",
              "      <th>ProfileName</th>\n",
              "      <th>HelpfulnessNumerator</th>\n",
              "      <th>HelpfulnessDenominator</th>\n",
              "      <th>Score</th>\n",
              "      <th>Time</th>\n",
              "      <th>Summary</th>\n",
              "      <th>Text</th>\n",
              "    </tr>\n",
              "  </thead>\n",
              "  <tbody>\n",
              "    <tr>\n",
              "      <th>0</th>\n",
              "      <td>1</td>\n",
              "      <td>B001E4KFG0</td>\n",
              "      <td>A3SGXH7AUHU8GW</td>\n",
              "      <td>delmartian</td>\n",
              "      <td>1</td>\n",
              "      <td>1</td>\n",
              "      <td>5</td>\n",
              "      <td>1303862400</td>\n",
              "      <td>Good Quality Dog Food</td>\n",
              "      <td>I have bought several of the Vitality canned d...</td>\n",
              "    </tr>\n",
              "    <tr>\n",
              "      <th>1</th>\n",
              "      <td>2</td>\n",
              "      <td>B00813GRG4</td>\n",
              "      <td>A1D87F6ZCVE5NK</td>\n",
              "      <td>dll pa</td>\n",
              "      <td>0</td>\n",
              "      <td>0</td>\n",
              "      <td>1</td>\n",
              "      <td>1346976000</td>\n",
              "      <td>Not as Advertised</td>\n",
              "      <td>Product arrived labeled as Jumbo Salted Peanut...</td>\n",
              "    </tr>\n",
              "  </tbody>\n",
              "</table>\n",
              "</div>"
            ],
            "text/plain": [
              "   Id  ...                                               Text\n",
              "0   1  ...  I have bought several of the Vitality canned d...\n",
              "1   2  ...  Product arrived labeled as Jumbo Salted Peanut...\n",
              "\n",
              "[2 rows x 10 columns]"
            ]
          },
          "metadata": {
            "tags": []
          },
          "execution_count": 263
        }
      ]
    },
    {
      "cell_type": "code",
      "metadata": {
        "id": "cXBJtlUK2ZQF",
        "colab_type": "code",
        "outputId": "62f15669-5441-4b2b-da98-68a121c2802d",
        "colab": {
          "base_uri": "https://localhost:8080/",
          "height": 35
        }
      },
      "source": [
        "data.shape"
      ],
      "execution_count": 0,
      "outputs": [
        {
          "output_type": "execute_result",
          "data": {
            "text/plain": [
              "(568454, 10)"
            ]
          },
          "metadata": {
            "tags": []
          },
          "execution_count": 264
        }
      ]
    },
    {
      "cell_type": "code",
      "metadata": {
        "id": "32llVmxR2hSO",
        "colab_type": "code",
        "outputId": "244e329a-7cda-4d01-ac20-04d9521bf570",
        "colab": {
          "base_uri": "https://localhost:8080/",
          "height": 35
        }
      },
      "source": [
        "data=data[data['Score']!=3]\n",
        "data.shape"
      ],
      "execution_count": 0,
      "outputs": [
        {
          "output_type": "execute_result",
          "data": {
            "text/plain": [
              "(525814, 10)"
            ]
          },
          "metadata": {
            "tags": []
          },
          "execution_count": 265
        }
      ]
    },
    {
      "cell_type": "code",
      "metadata": {
        "id": "FQ8CJ8BS2w23",
        "colab_type": "code",
        "colab": {}
      },
      "source": [
        "def score_rate(score):\n",
        "  if score >3:\n",
        "    return 1\n",
        "  else:\n",
        "    return 0\n",
        "  "
      ],
      "execution_count": 0,
      "outputs": []
    },
    {
      "cell_type": "code",
      "metadata": {
        "id": "MJ_fH37M3Wxz",
        "colab_type": "code",
        "outputId": "63338bf9-9d16-4262-ab5e-0fc44635f950",
        "colab": {
          "base_uri": "https://localhost:8080/",
          "height": 35
        }
      },
      "source": [
        "score_rate(data['Score'][1])"
      ],
      "execution_count": 0,
      "outputs": [
        {
          "output_type": "execute_result",
          "data": {
            "text/plain": [
              "0"
            ]
          },
          "metadata": {
            "tags": []
          },
          "execution_count": 267
        }
      ]
    },
    {
      "cell_type": "code",
      "metadata": {
        "id": "DWI9BL0H29Mz",
        "colab_type": "code",
        "outputId": "59f8aea8-1c44-4760-c2af-fa0f984293c0",
        "colab": {
          "base_uri": "https://localhost:8080/",
          "height": 125
        }
      },
      "source": [
        "data['Score'] = data['Score'].apply(score_rate)\n",
        "data['Score'].head(5)"
      ],
      "execution_count": 0,
      "outputs": [
        {
          "output_type": "execute_result",
          "data": {
            "text/plain": [
              "0    1\n",
              "1    0\n",
              "2    1\n",
              "3    0\n",
              "4    1\n",
              "Name: Score, dtype: int64"
            ]
          },
          "metadata": {
            "tags": []
          },
          "execution_count": 268
        }
      ]
    },
    {
      "cell_type": "code",
      "metadata": {
        "id": "vLJJinUN3pdZ",
        "colab_type": "code",
        "outputId": "a117f2d5-07db-44f3-ad90-77888aa0253b",
        "colab": {
          "base_uri": "https://localhost:8080/",
          "height": 71
        }
      },
      "source": [
        "data.Score.value_counts(normalize=True)"
      ],
      "execution_count": 0,
      "outputs": [
        {
          "output_type": "execute_result",
          "data": {
            "text/plain": [
              "1    0.843981\n",
              "0    0.156019\n",
              "Name: Score, dtype: float64"
            ]
          },
          "metadata": {
            "tags": []
          },
          "execution_count": 269
        }
      ]
    },
    {
      "cell_type": "code",
      "metadata": {
        "id": "atGuWQ4w3w5X",
        "colab_type": "code",
        "outputId": "c3cb8b6e-9c82-4879-c592-3fc84d04d89e",
        "colab": {
          "base_uri": "https://localhost:8080/",
          "height": 35
        }
      },
      "source": [
        "#Deduplication of entries\n",
        "data=data.drop_duplicates(subset={\"UserId\",\"ProfileName\",\"Time\",\"Text\"}, keep='first', inplace=False)\n",
        "data.shape"
      ],
      "execution_count": 0,
      "outputs": [
        {
          "output_type": "execute_result",
          "data": {
            "text/plain": [
              "(364173, 10)"
            ]
          },
          "metadata": {
            "tags": []
          },
          "execution_count": 270
        }
      ]
    },
    {
      "cell_type": "code",
      "metadata": {
        "id": "ZxOEg_Pt4Wwf",
        "colab_type": "code",
        "outputId": "3b2d34bf-a04a-4986-c9d9-a7c86fc67974",
        "colab": {
          "base_uri": "https://localhost:8080/",
          "height": 35
        }
      },
      "source": [
        "data=data[data.HelpfulnessNumerator<=data.HelpfulnessDenominator]\n",
        "data.shape"
      ],
      "execution_count": 0,
      "outputs": [
        {
          "output_type": "execute_result",
          "data": {
            "text/plain": [
              "(364171, 10)"
            ]
          },
          "metadata": {
            "tags": []
          },
          "execution_count": 271
        }
      ]
    },
    {
      "cell_type": "markdown",
      "metadata": {
        "id": "XMe_6yLy44DA",
        "colab_type": "text"
      },
      "source": [
        "##  Preprocessing Review Text\n",
        "Now that we have finished deduplication our data requires some preprocessing before we go on further with analysis and making the prediction model.\n",
        "\n",
        "Hence in the Preprocessing phase we do the following in the order below:-\n",
        "\n",
        "\n",
        "\n",
        "1.   Remove any punctuations or limited set of special characters like , or . or # etc.\n",
        "2. Begin by removing the html tags\n",
        "3. Check if the word is made up of english letters and is not alpha-numeric\n",
        "4. Check to see if the length of the word is greater than 2 (as it was researched that there is no adjective in 2-letters)\n",
        "5. Convert the word to lowercase\n",
        "6. Remove Stopwords\n",
        "7. Finally Snowball Stemming the word (it was obsereved to be better than Porter Stemming)\n",
        "8. After which we collect the words used to describe positive and negative reviews"
      ]
    },
    {
      "cell_type": "code",
      "metadata": {
        "id": "lILFf-D14o73",
        "colab_type": "code",
        "outputId": "3a5a524b-467c-46ab-8907-814fa90246e5",
        "colab": {
          "base_uri": "https://localhost:8080/",
          "height": 181
        }
      },
      "source": [
        "# printing some random reviews\n",
        "sent_0 = data['Text'].values[0]\n",
        "print(sent_0)\n",
        "print(\"=\"*50)\n",
        "\n",
        "sent_1000 = data['Text'].values[1000]\n",
        "print(sent_1000)\n",
        "print(\"=\"*50)\n",
        "\n",
        "sent_1500 = data['Text'].values[1500]\n",
        "print(sent_1500)\n",
        "print(\"=\"*50)\n",
        "\n",
        "sent_4900 = data['Text'].values[4900]\n",
        "print(sent_4900)\n",
        "print(\"=\"*50)"
      ],
      "execution_count": 0,
      "outputs": [
        {
          "output_type": "stream",
          "text": [
            "I have bought several of the Vitality canned dog food products and have found them all to be of good quality. The product looks more like a stew than a processed meat and it smells better. My Labrador is finicky and she appreciates this product better than  most.\n",
            "==================================================\n",
            "This is not jerky, this is processed, hard like a rock, very greasy and stale smelling stripe of something that you can't break into anything smaller than 2 inches long and that certainly is not the size of a training treat! The dogs- 45lb dogs that will eat anything- were not impressed, it was hard to chew, and it sounded like they were crunching rocks, most of them spat it out after a few chews, left it there, this would be the first time they would not eat something in their entire lives, these dogs will work for lettuce. Where is a zero star button?\n",
            "==================================================\n",
            "Aboulutely love Popchips!I first tried these healthy chips at a marathon i did in California. I like this variety pack because i got to try alot of the flavors ive never had.\n",
            "==================================================\n",
            "My Pug absolutely adores these treats and will do anything for one.  I can get anything away from her and get her to go anywhere.  They are a big help for me and a wonderful treat for her.\n",
            "==================================================\n"
          ],
          "name": "stdout"
        }
      ]
    },
    {
      "cell_type": "code",
      "metadata": {
        "id": "xmzYXtdj5dZ7",
        "colab_type": "code",
        "colab": {}
      },
      "source": [
        "# https://stackoverflow.com/a/47091490/4084039\n",
        "\n",
        "def decontracted(phrase):\n",
        "    # specific\n",
        "    phrase = re.sub(r\"won't\", \"will not\", phrase)\n",
        "    phrase = re.sub(r\"can\\'t\", \"can not\", phrase)\n",
        "\n",
        "    # general\n",
        "    phrase = re.sub(r\"n\\'t\", \" not\", phrase)\n",
        "    phrase = re.sub(r\"\\'re\", \" are\", phrase)\n",
        "    phrase = re.sub(r\"\\'s\", \" is\", phrase)\n",
        "    phrase = re.sub(r\"\\'d\", \" would\", phrase)\n",
        "    phrase = re.sub(r\"\\'ll\", \" will\", phrase)\n",
        "    phrase = re.sub(r\"\\'t\", \" not\", phrase)\n",
        "    phrase = re.sub(r\"\\'ve\", \" have\", phrase)\n",
        "    phrase = re.sub(r\"\\'m\", \" am\", phrase)\n",
        "    return phrase"
      ],
      "execution_count": 0,
      "outputs": []
    },
    {
      "cell_type": "code",
      "metadata": {
        "id": "QSbGPtSh5mM_",
        "colab_type": "code",
        "outputId": "5097f7d0-95eb-43aa-8dd2-3f64fcef7d4a",
        "colab": {
          "base_uri": "https://localhost:8080/",
          "height": 53
        }
      },
      "source": [
        "sent_1500 = decontracted(sent_1500)\n",
        "print(sent_1500)\n",
        "print(\"=\"*50)"
      ],
      "execution_count": 0,
      "outputs": [
        {
          "output_type": "stream",
          "text": [
            "Aboulutely love Popchips!I first tried these healthy chips at a marathon i did in California. I like this variety pack because i got to try alot of the flavors ive never had.\n",
            "==================================================\n"
          ],
          "name": "stdout"
        }
      ]
    },
    {
      "cell_type": "code",
      "metadata": {
        "id": "mTNyE8of5tXp",
        "colab_type": "code",
        "outputId": "00f81c15-1cdb-439b-bf4c-b43c8e1e2ccb",
        "colab": {
          "base_uri": "https://localhost:8080/",
          "height": 53
        }
      },
      "source": [
        "# https://gist.github.com/sebleier/554280\n",
        "# we are removing the words from the stop words list: 'no', 'nor', 'not'\n",
        "# <br /><br /> ==> after the above steps, we are getting \"br br\"\n",
        "# we are including them into stop words list\n",
        "# instead of <br /> if we have <br/> these tags would have revmoved in the 1st step\n",
        "import nltk\n",
        "nltk.download('stopwords')\n",
        "\n",
        "stop_words = set(stopwords.words(\"english\"))\n",
        "\n",
        "stopwords= set(['br', 'the', 'i', 'me', 'my', 'myself', 'we', 'our', 'ours', 'ourselves', 'you', \"you're\", \"you've\",\\\n",
        "            \"you'll\", \"you'd\", 'your', 'yours', 'yourself', 'yourselves', 'he', 'him', 'his', 'himself', \\\n",
        "            'she', \"she's\", 'her', 'hers', 'herself', 'it', \"it's\", 'its', 'itself', 'they', 'them', 'their',\\\n",
        "            'theirs', 'themselves', 'what', 'which', 'who', 'whom', 'this', 'that', \"that'll\", 'these', 'those', \\\n",
        "            'am', 'is', 'are', 'was', 'were', 'be', 'been', 'being', 'have', 'has', 'had', 'having', 'do', 'does', \\\n",
        "            'did', 'doing', 'a', 'an', 'the', 'and', 'but', 'if', 'or', 'because', 'as', 'until', 'while', 'of', \\\n",
        "            'at', 'by', 'for', 'with', 'about', 'against', 'between', 'into', 'through', 'during', 'before', 'after',\\\n",
        "            'above', 'below', 'to', 'from', 'up', 'down', 'in', 'out', 'on', 'off', 'over', 'under', 'again', 'further',\\\n",
        "            'then', 'once', 'here', 'there', 'when', 'where', 'why', 'how', 'all', 'any', 'both', 'each', 'few', 'more',\\\n",
        "            'most', 'other', 'some', 'such', 'only', 'own', 'same', 'so', 'than', 'too', 'very', \\\n",
        "            's', 't', 'can', 'will', 'just', 'don', \"don't\", 'should', \"should've\", 'now', 'd', 'll', 'm', 'o', 're', \\\n",
        "            've', 'y', 'ain', 'aren', \"aren't\", 'couldn', \"couldn't\", 'didn', \"didn't\", 'doesn', \"doesn't\", 'hadn',\\\n",
        "            \"hadn't\", 'hasn', \"hasn't\", 'haven', \"haven't\", 'isn', \"isn't\", 'ma', 'mightn', \"mightn't\", 'mustn',\\\n",
        "            \"mustn't\", 'needn', \"needn't\", 'shan', \"shan't\", 'shouldn', \"shouldn't\", 'wasn', \"wasn't\", 'weren', \"weren't\", \\\n",
        "            'won', \"won't\", 'wouldn', \"wouldn't\"])"
      ],
      "execution_count": 0,
      "outputs": [
        {
          "output_type": "stream",
          "text": [
            "[nltk_data] Downloading package stopwords to /root/nltk_data...\n",
            "[nltk_data]   Package stopwords is already up-to-date!\n"
          ],
          "name": "stdout"
        }
      ]
    },
    {
      "cell_type": "code",
      "metadata": {
        "id": "agpuWGBi6P6-",
        "colab_type": "code",
        "outputId": "52a1b013-f536-495f-f4e3-735be6c6f698",
        "colab": {
          "base_uri": "https://localhost:8080/",
          "height": 35
        }
      },
      "source": [
        "df_pos = data[data['Score']==1].head(15000).sample(2450)\n",
        "df_pos.shape"
      ],
      "execution_count": 0,
      "outputs": [
        {
          "output_type": "execute_result",
          "data": {
            "text/plain": [
              "(2450, 10)"
            ]
          },
          "metadata": {
            "tags": []
          },
          "execution_count": 276
        }
      ]
    },
    {
      "cell_type": "code",
      "metadata": {
        "id": "0mREctpJ6mSS",
        "colab_type": "code",
        "outputId": "099600b6-ac70-4294-dabd-7c16889ccab0",
        "colab": {
          "base_uri": "https://localhost:8080/",
          "height": 35
        }
      },
      "source": [
        "df_neg = data[data['Score']==0].tail(20000).sample(2670)\n",
        "df_neg.shape"
      ],
      "execution_count": 0,
      "outputs": [
        {
          "output_type": "execute_result",
          "data": {
            "text/plain": [
              "(2670, 10)"
            ]
          },
          "metadata": {
            "tags": []
          },
          "execution_count": 277
        }
      ]
    },
    {
      "cell_type": "code",
      "metadata": {
        "id": "a_2KZ_1m6mDp",
        "colab_type": "code",
        "outputId": "84743b48-ef84-4e22-80e5-b2b3667de6dd",
        "colab": {
          "base_uri": "https://localhost:8080/",
          "height": 35
        }
      },
      "source": [
        "df = pd.concat([df_neg,df_pos])\n",
        "df.shape"
      ],
      "execution_count": 0,
      "outputs": [
        {
          "output_type": "execute_result",
          "data": {
            "text/plain": [
              "(5120, 10)"
            ]
          },
          "metadata": {
            "tags": []
          },
          "execution_count": 278
        }
      ]
    },
    {
      "cell_type": "code",
      "metadata": {
        "id": "beYo383c7tr6",
        "colab_type": "code",
        "outputId": "c665f010-e769-4528-cbb5-9daa86618446",
        "colab": {
          "base_uri": "https://localhost:8080/",
          "height": 71
        }
      },
      "source": [
        "df.Score.value_counts(normalize=True)"
      ],
      "execution_count": 0,
      "outputs": [
        {
          "output_type": "execute_result",
          "data": {
            "text/plain": [
              "0    0.521484\n",
              "1    0.478516\n",
              "Name: Score, dtype: float64"
            ]
          },
          "metadata": {
            "tags": []
          },
          "execution_count": 279
        }
      ]
    },
    {
      "cell_type": "code",
      "metadata": {
        "id": "TPR_JUQ154pS",
        "colab_type": "code",
        "outputId": "0fe04e76-56cc-4281-cec9-46df98192d0b",
        "colab": {
          "base_uri": "https://localhost:8080/",
          "height": 35
        }
      },
      "source": [
        "# Combining all the above stundents \n",
        "from tqdm import tqdm\n",
        "preprocessed_reviews = []\n",
        "# tqdm is for printing the status bar\n",
        "for sentance in tqdm(df['Text'].values):\n",
        "    sentance = re.sub(r\"http\\S+\", \"\", sentance)\n",
        "    sentance = BeautifulSoup(sentance, 'lxml').get_text()\n",
        "    sentance = decontracted(sentance)\n",
        "    sentance = re.sub(\"\\S*\\d\\S*\", \"\", sentance).strip()\n",
        "    sentance = re.sub('[^A-Za-z]+', ' ', sentance)\n",
        "    # https://gist.github.com/sebleier/554280\n",
        "    sentance = ' '.join(e.lower() for e in sentance.split() if e.lower() not in stopwords)\n",
        "    preprocessed_reviews.append(sentance.strip())"
      ],
      "execution_count": 0,
      "outputs": [
        {
          "output_type": "stream",
          "text": [
            "100%|██████████| 5120/5120 [00:02<00:00, 2451.76it/s]\n"
          ],
          "name": "stderr"
        }
      ]
    },
    {
      "cell_type": "code",
      "metadata": {
        "id": "A28U9t2_8laA",
        "colab_type": "code",
        "outputId": "edce0d69-afe7-4163-f298-4b7475c87abf",
        "colab": {
          "base_uri": "https://localhost:8080/",
          "height": 55
        }
      },
      "source": [
        "l=[]\n",
        "for e in sent_1000.split():\n",
        "  if e.lower() not in stopwords:\n",
        "    l.append(''.join(e.strip()))\n",
        "print(l)"
      ],
      "execution_count": 0,
      "outputs": [
        {
          "output_type": "stream",
          "text": [
            "['not', 'jerky,', 'processed,', 'hard', 'like', 'rock,', 'greasy', 'stale', 'smelling', 'stripe', 'something', \"can't\", 'break', 'anything', 'smaller', '2', 'inches', 'long', 'certainly', 'not', 'size', 'training', 'treat!', 'dogs-', '45lb', 'dogs', 'eat', 'anything-', 'not', 'impressed,', 'hard', 'chew,', 'sounded', 'like', 'crunching', 'rocks,', 'spat', 'chews,', 'left', 'there,', 'would', 'first', 'time', 'would', 'not', 'eat', 'something', 'entire', 'lives,', 'dogs', 'work', 'lettuce.', 'zero', 'star', 'button?']\n"
          ],
          "name": "stdout"
        }
      ]
    },
    {
      "cell_type": "code",
      "metadata": {
        "id": "cwRCQCt_9QZx",
        "colab_type": "code",
        "outputId": "d28a4bcd-65d3-40df-e0f6-9ae774d56582",
        "colab": {
          "base_uri": "https://localhost:8080/",
          "height": 35
        }
      },
      "source": [
        "len(preprocessed_reviews)"
      ],
      "execution_count": 0,
      "outputs": [
        {
          "output_type": "execute_result",
          "data": {
            "text/plain": [
              "5120"
            ]
          },
          "metadata": {
            "tags": []
          },
          "execution_count": 282
        }
      ]
    },
    {
      "cell_type": "code",
      "metadata": {
        "id": "O-YsvQl8i2gA",
        "colab_type": "code",
        "colab": {}
      },
      "source": [
        ""
      ],
      "execution_count": 0,
      "outputs": []
    },
    {
      "cell_type": "code",
      "metadata": {
        "id": "-ZcgqxOHiyvN",
        "colab_type": "code",
        "colab": {}
      },
      "source": [
        ""
      ],
      "execution_count": 0,
      "outputs": []
    },
    {
      "cell_type": "code",
      "metadata": {
        "id": "vB5VGlRliy6E",
        "colab_type": "code",
        "colab": {}
      },
      "source": [
        ""
      ],
      "execution_count": 0,
      "outputs": []
    },
    {
      "cell_type": "markdown",
      "metadata": {
        "id": "biJ4lr81_TTu",
        "colab_type": "text"
      },
      "source": [
        "# BOW"
      ]
    },
    {
      "cell_type": "code",
      "metadata": {
        "id": "8C6RsmSr-tOX",
        "colab_type": "code",
        "outputId": "5df58343-50f2-4c3d-c6f2-a1e79e159cea",
        "colab": {
          "base_uri": "https://localhost:8080/",
          "height": 125
        }
      },
      "source": [
        "#BoW\n",
        "# For training daa\n",
        "count_vect = CountVectorizer() #in scikit-learn\n",
        "bow_words = count_vect.fit_transform(preprocessed_reviews)\n",
        "\n",
        "\n",
        "\n",
        "\n",
        "#final_counts = count_vect.transform(preprocessed_reviews)\n",
        "print(\"the type of count vectorizer-train \",type(bow_words))\n",
        "#print(\"the type of count vectorizer-test \",type(bow_words_test))\n",
        "print(10*'==')\n",
        "\n",
        "print(\"the shape of out text BOW vectorizer-train \",bow_words.shape)\n",
        "#print(\"the shape of out text BOW vectorizer-test \",bow_words_test.shape)\n",
        "print(10*'==')\n",
        "\n",
        "print(\"the number of unique words -train\", bow_words.shape[1])\n",
        "#print(\"the number of unique words-test \", bow_words_test.shape[1])\n",
        "print(10*'==')"
      ],
      "execution_count": 0,
      "outputs": [
        {
          "output_type": "stream",
          "text": [
            "the type of count vectorizer-train  <class 'scipy.sparse.csr.csr_matrix'>\n",
            "====================\n",
            "the shape of out text BOW vectorizer-train  (5120, 14717)\n",
            "====================\n",
            "the number of unique words -train 14717\n",
            "====================\n"
          ],
          "name": "stdout"
        }
      ]
    },
    {
      "cell_type": "code",
      "metadata": {
        "id": "ceHaDT7eAMK8",
        "colab_type": "code",
        "outputId": "7c2f270e-a2e3-44a0-80dc-f6bbf9059250",
        "colab": {
          "base_uri": "https://localhost:8080/",
          "height": 107
        }
      },
      "source": [
        "\n",
        "x=bow_words\n",
        "print(type(x))\n",
        "print(x.shape)\n",
        "\n",
        "x = x.toarray()\n",
        "print(type(x))\n",
        "print(x.shape)\n",
        "\n",
        "\n",
        "y =df['Score']\n",
        "print(y.shape)"
      ],
      "execution_count": 0,
      "outputs": [
        {
          "output_type": "stream",
          "text": [
            "<class 'scipy.sparse.csr.csr_matrix'>\n",
            "(5120, 14717)\n",
            "<class 'numpy.ndarray'>\n",
            "(5120, 14717)\n",
            "(5120,)\n"
          ],
          "name": "stdout"
        }
      ]
    },
    {
      "cell_type": "code",
      "metadata": {
        "id": "wiBxualvAFpz",
        "colab_type": "code",
        "colab": {}
      },
      "source": [
        "x_train,x_test,y_train,y_test = train_test_split(x,y,test_size=0.3,random_state=75)"
      ],
      "execution_count": 0,
      "outputs": []
    },
    {
      "cell_type": "markdown",
      "metadata": {
        "id": "76v558VWBCRZ",
        "colab_type": "text"
      },
      "source": [
        "### simple Cross validation"
      ]
    },
    {
      "cell_type": "code",
      "metadata": {
        "id": "K5ikSC-xBgC_",
        "colab_type": "code",
        "outputId": "00d5e45d-aaf6-4f2c-c5ef-93473016bf0e",
        "colab": {
          "base_uri": "https://localhost:8080/",
          "height": 341
        }
      },
      "source": [
        "#split train data into cross validation train and cross validation test\n",
        "x_tr,x_cv,y_tr,y_cv = train_test_split(x_train,y_train,test_size=0.2,random_state=786)\n",
        "\n",
        "auc_scores_cv=[]\n",
        "auc_scores_tr = []\n",
        "\n",
        "hyper =[0.0001,0.001,0.01,0.1,1.0,10,100,1000]\n",
        "\n",
        "for i in hyper:\n",
        "    mnb_bow = MultinomialNB(alpha=i)\n",
        "    mnb_bow.fit(x_tr,y_tr)\n",
        "    pred_cv= mnb_bow.predict(x_cv)\n",
        "    pred_tr= mnb_bow.predict(x_tr)\n",
        "     \n",
        "    fpr_cv, tpr_cv, thresholds_cv = roc_curve(y_cv, pred_cv)\n",
        "    auc_score_cv = auc(fpr_cv, tpr_cv)\n",
        "    \n",
        "    fpr_tr, tpr_tr, thresholds_tr = roc_curve(y_tr, pred_tr)\n",
        "    auc_score_tr = auc(fpr_tr, tpr_tr)\n",
        "    \n",
        "    \n",
        "    auc_scores_cv.append((auc_score_cv,i))\n",
        "    auc_scores_tr.append((auc_score_tr,i))\n",
        "    \n",
        "    print(\"\\nCV Accuracy for Alpha (α)={} is {:.2f}\".format(i,auc_score_cv))\n",
        "    \n",
        "print(10*'===')\n",
        "print(\"Best accuracy:\",max(auc_scores_cv))"
      ],
      "execution_count": 0,
      "outputs": [
        {
          "output_type": "stream",
          "text": [
            "\n",
            "CV Accuracy for Alpha (α)=0.0001 is 0.77\n",
            "\n",
            "CV Accuracy for Alpha (α)=0.001 is 0.79\n",
            "\n",
            "CV Accuracy for Alpha (α)=0.01 is 0.81\n",
            "\n",
            "CV Accuracy for Alpha (α)=0.1 is 0.84\n",
            "\n",
            "CV Accuracy for Alpha (α)=1.0 is 0.85\n",
            "\n",
            "CV Accuracy for Alpha (α)=10 is 0.84\n",
            "\n",
            "CV Accuracy for Alpha (α)=100 is 0.80\n",
            "\n",
            "CV Accuracy for Alpha (α)=1000 is 0.66\n",
            "==============================\n",
            "Best accuracy: (0.8521825396825397, 1.0)\n"
          ],
          "name": "stdout"
        }
      ]
    },
    {
      "cell_type": "code",
      "metadata": {
        "id": "nu8MTsYICMUH",
        "colab_type": "code",
        "outputId": "28b6b5f4-9d7e-4912-ba82-ea92a9b48426",
        "colab": {
          "base_uri": "https://localhost:8080/",
          "height": 347
        }
      },
      "source": [
        "a=[]\n",
        "s =[]\n",
        "for i,j in auc_scores_cv:\n",
        "    a.append(j)\n",
        "    s.append(i)\n",
        "    \n",
        "k =[]\n",
        "l=[]\n",
        "\n",
        "for i,j in auc_scores_tr:\n",
        "    k.append(j)\n",
        "    l.append(i)\n",
        "    \n",
        "plt.figure(figsize=(5,4))\n",
        "plt.style.use('_classic_test')\n",
        "\n",
        "plt.plot(a,s)\n",
        "plt.plot(k,l)\n",
        "#plt.xlim([-0.0001,1000])\n",
        "plt.xlabel(\"Alpha-values\")\n",
        "plt.ylabel('AUC scores')\n",
        "plt.show()\n",
        "\n",
        "print(\"Best Alpha-CrossValidation:\",max(auc_scores_cv)[1])\n",
        "print(\"Best Alpha-Tr data:\",max(auc_scores_tr)[1])"
      ],
      "execution_count": 0,
      "outputs": [
        {
          "output_type": "display_data",
          "data": {
            "image/png": "[encoded data removed]",
            "text/plain": [
              "<Figure size 360x288 with 1 Axes>"
            ]
          },
          "metadata": {
            "tags": []
          }
        },
        {
          "output_type": "stream",
          "text": [
            "Best Alpha-CrossValidation: 1.0\n",
            "Best Alpha-Tr data: 0.0001\n"
          ],
          "name": "stdout"
        }
      ]
    },
    {
      "cell_type": "code",
      "metadata": {
        "id": "bpB8010mDqGn",
        "colab_type": "code",
        "outputId": "cfd6d19b-0245-44e7-8c6d-cf5b58ca2e70",
        "colab": {
          "base_uri": "https://localhost:8080/",
          "height": 342
        }
      },
      "source": [
        "cm=confusion_matrix(y_cv,pred_cv)\n",
        "\n",
        "class_label = [\"negative\", \"positive\"]\n",
        "df_cm = pd.DataFrame(cm, index = class_label, columns = class_label)\n",
        "plt.figure(figsize=(5,4))\n",
        "sns.heatmap(df_cm, annot = True,cbar=False,fmt = \"d\")\n",
        "plt.title(\"Confusion Matrix\")\n",
        "plt.xlabel(\"Predicted Label\")\n",
        "plt.ylabel(\"True Label\")\n",
        "plt.show()"
      ],
      "execution_count": 0,
      "outputs": [
        {
          "output_type": "display_data",
          "data": {
            "image/png": "[encoded data removed]",
            "text/plain": [
              "<Figure size 400x320 with 1 Axes>"
            ]
          },
          "metadata": {
            "tags": []
          }
        }
      ]
    },
    {
      "cell_type": "code",
      "metadata": {
        "id": "plsdg9Z7DqD8",
        "colab_type": "code",
        "colab": {}
      },
      "source": [
        ""
      ],
      "execution_count": 0,
      "outputs": []
    },
    {
      "cell_type": "markdown",
      "metadata": {
        "id": "GqHS6q6zE5oJ",
        "colab_type": "text"
      },
      "source": [
        "### GridiSearchCv with BOW"
      ]
    },
    {
      "cell_type": "code",
      "metadata": {
        "id": "85RTStipFSqH",
        "colab_type": "code",
        "colab": {}
      },
      "source": [
        "hyper =[0.0001,0.001,0.01,0.1,1.0,10,100,1000]"
      ],
      "execution_count": 0,
      "outputs": []
    },
    {
      "cell_type": "code",
      "metadata": {
        "id": "WXv7P0c3FSWX",
        "colab_type": "code",
        "outputId": "e3aa6253-0376-45da-8011-c368d395b288",
        "colab": {
          "base_uri": "https://localhost:8080/",
          "height": 35
        }
      },
      "source": [
        "param_grid=dict(alpha=hyper)\n",
        "print(param_grid)"
      ],
      "execution_count": 0,
      "outputs": [
        {
          "output_type": "stream",
          "text": [
            "{'alpha': [0.0001, 0.001, 0.01, 0.1, 1.0, 10, 100, 1000]}\n"
          ],
          "name": "stdout"
        }
      ]
    },
    {
      "cell_type": "code",
      "metadata": {
        "id": "BWoku4d1DqAU",
        "colab_type": "code",
        "outputId": "629813f9-20d6-41f0-c91e-c894f00652ae",
        "colab": {
          "base_uri": "https://localhost:8080/",
          "height": 161
        }
      },
      "source": [
        "grid_mnb_bow = GridSearchCV(mnb_bow, param_grid=param_grid,cv=3,scoring='accuracy',n_jobs=4)\n",
        "grid_mnb_bow.fit(x_train,y_train)"
      ],
      "execution_count": 0,
      "outputs": [
        {
          "output_type": "execute_result",
          "data": {
            "text/plain": [
              "GridSearchCV(cv=3, error_score='raise-deprecating',\n",
              "             estimator=MultinomialNB(alpha=1000, class_prior=None,\n",
              "                                     fit_prior=True),\n",
              "             iid='warn', n_jobs=4,\n",
              "             param_grid={'alpha': [0.0001, 0.001, 0.01, 0.1, 1.0, 10, 100,\n",
              "                                   1000]},\n",
              "             pre_dispatch='2*n_jobs', refit=True, return_train_score=False,\n",
              "             scoring='accuracy', verbose=0)"
            ]
          },
          "metadata": {
            "tags": []
          },
          "execution_count": 294
        }
      ]
    },
    {
      "cell_type": "code",
      "metadata": {
        "id": "28mRHy-nDp9M",
        "colab_type": "code",
        "outputId": "9335552c-6897-43a7-fa00-de5bd05035da",
        "colab": {
          "base_uri": "https://localhost:8080/",
          "height": 71
        }
      },
      "source": [
        "print(\"Best Estimators:\",grid_mnb_bow.best_estimator_)\n",
        "print(\"Best alpha:\",grid_mnb_bow.best_params_)\n",
        "print(\"Bset score:\",grid_mnb_bow.best_score_)"
      ],
      "execution_count": 0,
      "outputs": [
        {
          "output_type": "stream",
          "text": [
            "Best Estimators: MultinomialNB(alpha=1.0, class_prior=None, fit_prior=True)\n",
            "Best alpha: {'alpha': 1.0}\n",
            "Bset score: 0.8727678571428571\n"
          ],
          "name": "stdout"
        }
      ]
    },
    {
      "cell_type": "code",
      "metadata": {
        "id": "NSYrsq_KCMgu",
        "colab_type": "code",
        "outputId": "0e65acfc-f4f3-4970-f80d-cc82e98647bb",
        "colab": {
          "base_uri": "https://localhost:8080/",
          "height": 53
        }
      },
      "source": [
        "mnb_bow = MultinomialNB(grid_mnb_bow.best_params_['alpha'])\n",
        "mnb_bow.fit(x_train,y_train)\n",
        "y_pred_bow = mnb_bow.predict(x_test)\n",
        "y_pred_train_bow = mnb_bow.predict(x_train)\n",
        "print(\"Accuracy on Test Data:\",accuracy_score(y_pred_bow,y_test)*100)\n",
        "print(\"Accuracy on Train Data:\",accuracy_score(y_pred_train_bow,y_train)*100)"
      ],
      "execution_count": 0,
      "outputs": [
        {
          "output_type": "stream",
          "text": [
            "Accuracy on Test Data: 85.28645833333334\n",
            "Accuracy on Train Data: 95.56361607142857\n"
          ],
          "name": "stdout"
        }
      ]
    },
    {
      "cell_type": "markdown",
      "metadata": {
        "id": "G3FpuOmZUPLB",
        "colab_type": "text"
      },
      "source": [
        "**AUC SCore on Test Data**"
      ]
    },
    {
      "cell_type": "code",
      "metadata": {
        "id": "mppXFRqATmDt",
        "colab_type": "code",
        "outputId": "463030d7-9d2b-4eb0-d28f-2599256b8a24",
        "colab": {
          "base_uri": "https://localhost:8080/",
          "height": 35
        }
      },
      "source": [
        "fpr_test_bow, tpr_test_bow, thresholds = roc_curve(y_pred_bow, y_test)\n",
        "auc_score_test_bow= auc(fpr_test_bow, tpr_test_bow)\n",
        "print(\"AUC Score on Test data:\",(auc_score_test_bow)*100)"
      ],
      "execution_count": 0,
      "outputs": [
        {
          "output_type": "stream",
          "text": [
            "AUC Score on Test data: 85.36575436572893\n"
          ],
          "name": "stdout"
        }
      ]
    },
    {
      "cell_type": "code",
      "metadata": {
        "id": "I0mPkeH8SsUQ",
        "colab_type": "code",
        "colab": {}
      },
      "source": [
        "roc_auc_test_bow = roc_auc_score(y_test,y_pred_bow)\n",
        "fpr_test,tpr_test,thersholds_test = roc_curve(y_test,mnb_bow.predict_proba(x_test)[:,1])\n",
        "\n",
        "roc_auc_train_bow = roc_auc_score(y_train,y_pred_train_bow)\n",
        "fpr_train,tpr_train,thersholds_train = roc_curve(y_train,mnb_bow.predict_proba(x_train)[:,1])\n"
      ],
      "execution_count": 0,
      "outputs": []
    },
    {
      "cell_type": "code",
      "metadata": {
        "id": "MaAhklpLSsRd",
        "colab_type": "code",
        "outputId": "6b6b401a-0c24-4cd3-82a4-1a72b98a4136",
        "colab": {
          "base_uri": "https://localhost:8080/",
          "height": 406
        }
      },
      "source": [
        "plt.figure(figsize=(8,5))\n",
        "plt.style.use('classic')\n",
        "plt.plot(fpr_test,tpr_test,label='Model_MNB with Test Data (area = %.2f).'% roc_auc_test_bow)\n",
        "plt.plot(fpr_train,tpr_train,label='Model_MNB with Train Data (area = %.2f).'% roc_auc_train_bow)\n",
        "plt.plot([0,1],[0,1])\n",
        "plt.xlim([-0.05,1.05])\n",
        "plt.ylim([-0.05,1.05])\n",
        "plt.legend(loc=0)\n",
        "\n",
        "plt.xlabel('False Positive Rate')\n",
        "plt.ylabel('True Positive Rate')\n",
        "plt.title(\"RoC -AUC curve Model-1\")\n",
        "\n",
        "plt.show()"
      ],
      "execution_count": 0,
      "outputs": [
        {
          "output_type": "display_data",
          "data": {
            "image/png": "[encoded data removed]",
            "text/plain": [
              "<Figure size 640x400 with 1 Axes>"
            ]
          },
          "metadata": {
            "tags": []
          }
        }
      ]
    },
    {
      "cell_type": "code",
      "metadata": {
        "id": "i8-OLaUxSsIh",
        "colab_type": "code",
        "colab": {}
      },
      "source": [
        ""
      ],
      "execution_count": 0,
      "outputs": []
    },
    {
      "cell_type": "code",
      "metadata": {
        "id": "h8P9xnNBSsEz",
        "colab_type": "code",
        "colab": {}
      },
      "source": [
        ""
      ],
      "execution_count": 0,
      "outputs": []
    },
    {
      "cell_type": "markdown",
      "metadata": {
        "id": "iPYjuTXGYvdb",
        "colab_type": "text"
      },
      "source": [
        "#### Confusion Matrix _BOW - MNB"
      ]
    },
    {
      "cell_type": "code",
      "metadata": {
        "id": "vBOTn6zaCMm_",
        "colab_type": "code",
        "outputId": "7525f343-dd18-44a2-de86-98ccc467068e",
        "colab": {
          "base_uri": "https://localhost:8080/",
          "height": 342
        }
      },
      "source": [
        "cm=confusion_matrix(y_test,y_pred_bow)\n",
        "\n",
        "class_label = [\"negative\", \"positive\"]\n",
        "df_cm = pd.DataFrame(cm, index = class_label, columns = class_label)\n",
        "plt.figure(figsize=(5,4))\n",
        "sns.heatmap(df_cm, annot = True,cbar=False,fmt = \"d\")\n",
        "plt.title(\"Confusion Matrix\")\n",
        "plt.xlabel(\"Predicted Label\")\n",
        "plt.ylabel(\"True Label\")\n",
        "plt.show()"
      ],
      "execution_count": 0,
      "outputs": [
        {
          "output_type": "display_data",
          "data": {
            "image/png": "[encoded data removed]",
            "text/plain": [
              "<Figure size 400x320 with 1 Axes>"
            ]
          },
          "metadata": {
            "tags": []
          }
        }
      ]
    },
    {
      "cell_type": "markdown",
      "metadata": {
        "id": "dMqavE6oEinn",
        "colab_type": "text"
      },
      "source": [
        "### Feature Importace : BOW"
      ]
    },
    {
      "cell_type": "code",
      "metadata": {
        "id": "LY6w6dw9CNVD",
        "colab_type": "code",
        "outputId": "c8359748-5025-435e-fb47-2097458f0fa7",
        "colab": {
          "base_uri": "https://localhost:8080/",
          "height": 89
        }
      },
      "source": [
        "# Reference : https://stackoverflow.com/questions/50526898/how-to-get-feature-importance-in-naive-bayes\n",
        "\n",
        "top_negative = mnb_bow.feature_log_prob_[0, :].argsort()\n",
        "top_positive = mnb_bow.feature_log_prob_[1, :].argsort()\n",
        "\n",
        "print(\"Top 10 negative features: \",np.take(count_vect.get_feature_names(), top_negative[:10]))\n",
        "print(\"Top 10 positive features: \",np.take(count_vect.get_feature_names(), top_positive[:10]))"
      ],
      "execution_count": 0,
      "outputs": [
        {
          "output_type": "stream",
          "text": [
            "Top 10 negative features:  ['aaaa' 'masa' 'marzipan' 'maryland' 'marvelously' 'marvelous' 'marvel'\n",
            " 'maruchan' 'martini' 'martha']\n",
            "Top 10 positive features:  ['mroe' 'expectant' 'expectancy' 'scoopfree' 'scorch' 'scorched'\n",
            " 'lightand' 'exp' 'scotch' 'scott']\n"
          ],
          "name": "stdout"
        }
      ]
    },
    {
      "cell_type": "code",
      "metadata": {
        "id": "XH58YalLCNyN",
        "colab_type": "code",
        "colab": {}
      },
      "source": [
        ""
      ],
      "execution_count": 0,
      "outputs": []
    },
    {
      "cell_type": "code",
      "metadata": {
        "id": "oRBPp-FVCNvn",
        "colab_type": "code",
        "colab": {}
      },
      "source": [
        ""
      ],
      "execution_count": 0,
      "outputs": []
    },
    {
      "cell_type": "code",
      "metadata": {
        "id": "yXiIF-J6CNtd",
        "colab_type": "code",
        "colab": {}
      },
      "source": [
        ""
      ],
      "execution_count": 0,
      "outputs": []
    },
    {
      "cell_type": "code",
      "metadata": {
        "id": "DU8dyCG9CNrP",
        "colab_type": "code",
        "colab": {}
      },
      "source": [
        ""
      ],
      "execution_count": 0,
      "outputs": []
    },
    {
      "cell_type": "code",
      "metadata": {
        "id": "SiUF5MqiCNSS",
        "colab_type": "code",
        "colab": {}
      },
      "source": [
        ""
      ],
      "execution_count": 0,
      "outputs": []
    },
    {
      "cell_type": "code",
      "metadata": {
        "id": "Y_MbFGZ3CNQH",
        "colab_type": "code",
        "colab": {}
      },
      "source": [
        ""
      ],
      "execution_count": 0,
      "outputs": []
    },
    {
      "cell_type": "code",
      "metadata": {
        "id": "eJEOCFwKCNOA",
        "colab_type": "code",
        "colab": {}
      },
      "source": [
        ""
      ],
      "execution_count": 0,
      "outputs": []
    },
    {
      "cell_type": "code",
      "metadata": {
        "id": "A1mfpOpACNLr",
        "colab_type": "code",
        "colab": {}
      },
      "source": [
        "#x=preprocessed_reviews\n",
        "#y=df['Score']"
      ],
      "execution_count": 0,
      "outputs": []
    },
    {
      "cell_type": "code",
      "metadata": {
        "id": "PN_k3qZVCNJm",
        "colab_type": "code",
        "colab": {}
      },
      "source": [
        "#x_train,x_test,y_train,y_test = train_test_split(x,y,test_size=0.3,random_state=100)"
      ],
      "execution_count": 0,
      "outputs": []
    },
    {
      "cell_type": "code",
      "metadata": {
        "id": "XQQgI_TWCNHg",
        "colab_type": "code",
        "outputId": "699b479c-68ed-43ba-f93c-41d6e81da614",
        "colab": {
          "base_uri": "https://localhost:8080/",
          "height": 53
        }
      },
      "source": [
        "tf_idf_vect = TfidfVectorizer(ngram_range=(1,2),min_df=5)\n",
        "tf_idf_words = tf_idf_vect.fit_transform(preprocessed_reviews)\n",
        "#tf_idf_test = tf_idf_vect.fit_transform(x_test)\n",
        "\n",
        "print(\"The shape of Tf-Idf:\",tf_idf_words.get_shape())\n",
        "print(\"Some of words in Tf-Idf words:\",tf_idf_vect.get_feature_names()[:10])\n",
        "\n",
        "#print(\"The shape of Tf-Idf-test:\",tf_idf_test.get_shape())\n",
        "#print(\"Some of words in Tf-Idf words:\",tf_idf_vect.get_feature_names()[:10])"
      ],
      "execution_count": 0,
      "outputs": [
        {
          "output_type": "stream",
          "text": [
            "The shape of Tf-Idf: (5120, 7072)\n",
            "Some of words in Tf-Idf words: ['ability', 'able', 'able buy', 'able eat', 'able find', 'able get', 'able purchase', 'able use', 'absolute', 'absolute favorite']\n"
          ],
          "name": "stdout"
        }
      ]
    },
    {
      "cell_type": "code",
      "metadata": {
        "id": "vEAIWTqNCNE9",
        "colab_type": "code",
        "outputId": "ae8d3239-78ae-40ef-a576-a9b23e69bb4f",
        "colab": {
          "base_uri": "https://localhost:8080/",
          "height": 107
        }
      },
      "source": [
        "x=tf_idf_words\n",
        "print(type(x))\n",
        "print(x.shape)\n",
        "x = x.toarray()\n",
        "print(x_train.shape)\n",
        "print(type(x))\n",
        "\n",
        "y =np.array(y).reshape(-1,1)\n",
        "print(y.shape)"
      ],
      "execution_count": 0,
      "outputs": [
        {
          "output_type": "stream",
          "text": [
            "<class 'scipy.sparse.csr.csr_matrix'>\n",
            "(5120, 7072)\n",
            "(3584, 5119)\n",
            "<class 'numpy.ndarray'>\n",
            "(5120, 1)\n"
          ],
          "name": "stdout"
        }
      ]
    },
    {
      "cell_type": "code",
      "metadata": {
        "id": "zbfFM7GMCNCt",
        "colab_type": "code",
        "outputId": "c580d334-3aa6-403a-d3e7-cf83af7833be",
        "colab": {
          "base_uri": "https://localhost:8080/",
          "height": 35
        }
      },
      "source": [
        "'''\n",
        "x_test=tf_idf_test\n",
        "print(type(x_test))\n",
        "print(x_test.shape)\n",
        "x_test = x_test.toarray()\n",
        "print(x_test.shape)\n",
        "print(type(x_test))\n",
        "\n",
        "\n",
        "print(y_test.shape)'''"
      ],
      "execution_count": 0,
      "outputs": [
        {
          "output_type": "execute_result",
          "data": {
            "text/plain": [
              "'\\nx_test=tf_idf_test\\nprint(type(x_test))\\nprint(x_test.shape)\\nx_test = x_test.toarray()\\nprint(x_test.shape)\\nprint(type(x_test))\\n\\n\\nprint(y_test.shape)'"
            ]
          },
          "metadata": {
            "tags": []
          },
          "execution_count": 341
        }
      ]
    },
    {
      "cell_type": "code",
      "metadata": {
        "id": "cKG1zKyWMmJU",
        "colab_type": "code",
        "colab": {}
      },
      "source": [
        "x_train,x_test,y_train,y_test = train_test_split(x,y,test_size=0.3,random_state=1070)"
      ],
      "execution_count": 0,
      "outputs": []
    },
    {
      "cell_type": "code",
      "metadata": {
        "id": "3A06UNxtCNAx",
        "colab_type": "code",
        "outputId": "30f9f15d-9710-4931-c01e-b39511609c6d",
        "colab": {
          "base_uri": "https://localhost:8080/",
          "height": 341
        }
      },
      "source": [
        "#split train data into cross validation train and cross validation test\n",
        "x_tr,x_cv,y_tr,y_cv = train_test_split(x_train,y_train,test_size=0.2,random_state=736)\n",
        "\n",
        "auc_scores_cv=[]\n",
        "auc_scores_tr = []\n",
        "\n",
        "hyper =[0.0001,0.001,0.01,0.1,1.0,10,100,1000]\n",
        "\n",
        "for i in hyper:\n",
        "    mnb_tf = MultinomialNB(alpha=i)\n",
        "    mnb_tf.fit(x_tr,y_tr)\n",
        "    pred_cv= mnb_tf.predict(x_cv)\n",
        "    pred_tr= mnb_tf.predict(x_tr)\n",
        "     \n",
        "    fpr_cv, tpr_cv, thresholds_cv = roc_curve(y_cv, pred_cv)\n",
        "    auc_score_cv = auc(fpr_cv, tpr_cv)\n",
        "    \n",
        "    fpr_tr, tpr_tr, thresholds_tr = roc_curve(y_tr, pred_tr)\n",
        "    auc_score_tr = auc(fpr_tr, tpr_tr)\n",
        "    \n",
        "    \n",
        "    auc_scores_cv.append((auc_score_cv,i))\n",
        "    auc_scores_tr.append((auc_score_tr,i))\n",
        "    \n",
        "    print(\"\\nCV Accuracy for Alpha (α)={} is {:.2f}\".format(i,auc_score_cv))\n",
        "    \n",
        "print(10*'===')\n",
        "print(\"Best accuracy:\",max(auc_scores_cv))"
      ],
      "execution_count": 0,
      "outputs": [
        {
          "output_type": "stream",
          "text": [
            "\n",
            "CV Accuracy for Alpha (α)=0.0001 is 0.79\n",
            "\n",
            "CV Accuracy for Alpha (α)=0.001 is 0.80\n",
            "\n",
            "CV Accuracy for Alpha (α)=0.01 is 0.83\n",
            "\n",
            "CV Accuracy for Alpha (α)=0.1 is 0.84\n",
            "\n",
            "CV Accuracy for Alpha (α)=1.0 is 0.84\n",
            "\n",
            "CV Accuracy for Alpha (α)=10 is 0.81\n",
            "\n",
            "CV Accuracy for Alpha (α)=100 is 0.55\n",
            "\n",
            "CV Accuracy for Alpha (α)=1000 is 0.50\n",
            "==============================\n",
            "Best accuracy: (0.8432957325148404, 1.0)\n"
          ],
          "name": "stdout"
        }
      ]
    },
    {
      "cell_type": "code",
      "metadata": {
        "id": "274GaF99CM-5",
        "colab_type": "code",
        "outputId": "e6aa944a-6ac0-4b58-f8fa-86cb26b60c52",
        "colab": {
          "base_uri": "https://localhost:8080/",
          "height": 431
        }
      },
      "source": [
        "a=[]\n",
        "s =[]\n",
        "for i,j in auc_scores_cv:\n",
        "    a.append(j)\n",
        "    s.append(i)\n",
        "    \n",
        "k =[]\n",
        "l=[]\n",
        "\n",
        "for i,j in auc_scores_tr:\n",
        "    k.append(j)\n",
        "    l.append(i)\n",
        "    \n",
        "plt.figure(figsize=(7,5))\n",
        "plt.style.use('_classic_test')\n",
        "\n",
        "plt.plot(a,s)\n",
        "plt.plot(k,l)\n",
        "#plt.xlim([-0.0001,1000])\n",
        "plt.xlabel(\"Alpha-values\")\n",
        "plt.ylabel('AUC scores')\n",
        "plt.show()\n",
        "\n",
        "print(\"Best Alpha-CrossValidation:\",max(auc_scores_cv)[1])\n",
        "print(\"Best Alpha-Tr data:\",max(auc_scores_tr)[1])"
      ],
      "execution_count": 0,
      "outputs": [
        {
          "output_type": "display_data",
          "data": {
            "image/png": "[encoded data removed]",
            "text/plain": [
              "<Figure size 560x400 with 1 Axes>"
            ]
          },
          "metadata": {
            "tags": []
          }
        },
        {
          "output_type": "stream",
          "text": [
            "Best Alpha-CrossValidation: 1.0\n",
            "Best Alpha-Tr data: 0.0001\n"
          ],
          "name": "stdout"
        }
      ]
    },
    {
      "cell_type": "code",
      "metadata": {
        "id": "JgIqjRbdCM81",
        "colab_type": "code",
        "outputId": "0cb31a11-fa00-449c-e2a9-347625923be5",
        "colab": {
          "base_uri": "https://localhost:8080/",
          "height": 342
        }
      },
      "source": [
        "cm=confusion_matrix(y_cv,pred_cv)\n",
        "\n",
        "class_label = [\"negative\", \"positive\"]\n",
        "df_cm = pd.DataFrame(cm, index = class_label, columns = class_label)\n",
        "plt.figure(figsize=(5,4))\n",
        "sns.heatmap(df_cm, annot = True,cbar=False,fmt = \"d\")\n",
        "plt.title(\"Confusion Matrix\")\n",
        "plt.xlabel(\"Predicted Label\")\n",
        "plt.ylabel(\"True Label\")\n",
        "plt.show()"
      ],
      "execution_count": 0,
      "outputs": [
        {
          "output_type": "display_data",
          "data": {
            "image/png": "[encoded data removed]",
            "text/plain": [
              "<Figure size 400x320 with 1 Axes>"
            ]
          },
          "metadata": {
            "tags": []
          }
        }
      ]
    },
    {
      "cell_type": "code",
      "metadata": {
        "id": "0LGrPVxGCM6t",
        "colab_type": "code",
        "outputId": "56613aa3-def8-4082-b485-1abed1c9d7a7",
        "colab": {
          "base_uri": "https://localhost:8080/",
          "height": 35
        }
      },
      "source": [
        "hyper =[0.0001,0.001,0.01,0.1,1.0,10,100,1000]\n",
        "param_grid=dict(alpha=hyper)\n",
        "print(param_grid)"
      ],
      "execution_count": 0,
      "outputs": [
        {
          "output_type": "stream",
          "text": [
            "{'alpha': [0.0001, 0.001, 0.01, 0.1, 1.0, 10, 100, 1000]}\n"
          ],
          "name": "stdout"
        }
      ]
    },
    {
      "cell_type": "code",
      "metadata": {
        "id": "VB8XiD1kCM4o",
        "colab_type": "code",
        "outputId": "656a2870-4408-429f-f608-3ee61d1a3af8",
        "colab": {
          "base_uri": "https://localhost:8080/",
          "height": 161
        }
      },
      "source": [
        "grid_mnb_tf = GridSearchCV(mnb_tf, param_grid=param_grid,cv=3,scoring='accuracy',n_jobs=4)\n",
        "grid_mnb_tf.fit(x_train,y_train)"
      ],
      "execution_count": 0,
      "outputs": [
        {
          "output_type": "execute_result",
          "data": {
            "text/plain": [
              "GridSearchCV(cv=3, error_score='raise-deprecating',\n",
              "             estimator=MultinomialNB(alpha=1000, class_prior=None,\n",
              "                                     fit_prior=True),\n",
              "             iid='warn', n_jobs=4,\n",
              "             param_grid={'alpha': [0.0001, 0.001, 0.01, 0.1, 1.0, 10, 100,\n",
              "                                   1000]},\n",
              "             pre_dispatch='2*n_jobs', refit=True, return_train_score=False,\n",
              "             scoring='accuracy', verbose=0)"
            ]
          },
          "metadata": {
            "tags": []
          },
          "execution_count": 357
        }
      ]
    },
    {
      "cell_type": "code",
      "metadata": {
        "id": "-DYMptiPCM21",
        "colab_type": "code",
        "outputId": "9be9616d-e949-449f-9a9a-c6193ee6fd19",
        "colab": {
          "base_uri": "https://localhost:8080/",
          "height": 71
        }
      },
      "source": [
        "print(\"Best Parameter:\",grid_mnb_tf.best_estimator_)\n",
        "print(\"Best Neighbors:\",grid_mnb_tf.best_params_)\n",
        "print(\"Bset score:\",grid_mnb_tf.best_score_)"
      ],
      "execution_count": 0,
      "outputs": [
        {
          "output_type": "stream",
          "text": [
            "Best Parameter: MultinomialNB(alpha=1.0, class_prior=None, fit_prior=True)\n",
            "Best Neighbors: {'alpha': 1.0}\n",
            "Bset score: 0.8727678571428571\n"
          ],
          "name": "stdout"
        }
      ]
    },
    {
      "cell_type": "code",
      "metadata": {
        "id": "Ge3zSlQbCM08",
        "colab_type": "code",
        "outputId": "5687fbd6-41d7-4cbf-b24a-04881b31772f",
        "colab": {
          "base_uri": "https://localhost:8080/",
          "height": 53
        }
      },
      "source": [
        "mnb_tf = MultinomialNB(grid_mnb_tf.best_params_['alpha'])\n",
        "mnb_tf.fit(x_train,y_train)\n",
        "y_pred_tf = mnb_tf.predict(x_test)\n",
        "y_pred_train_tf = mnb_tf.predict(x_train)\n",
        "\n",
        "print(\"Accuracy on Test Data:\",accuracy_score(y_pred_tf,y_test)*100)\n",
        "print(\"Accuracy on Train Data:\",accuracy_score(y_pred_train_tf,y_train)*100)"
      ],
      "execution_count": 0,
      "outputs": [
        {
          "output_type": "stream",
          "text": [
            "Accuracy on Test Data: 87.17447916666666\n",
            "Accuracy on Train Data: 95.00558035714286\n"
          ],
          "name": "stdout"
        }
      ]
    },
    {
      "cell_type": "code",
      "metadata": {
        "id": "I1PLaZ4TCMyV",
        "colab_type": "code",
        "outputId": "c45abf77-0ff1-44d1-d1aa-eeda614fd944",
        "colab": {
          "base_uri": "https://localhost:8080/",
          "height": 35
        }
      },
      "source": [
        "fpr_test_tf, tpr_test_tf, thresholds = roc_curve(y_pred_tf, y_test)\n",
        "auc_score_test_tf= auc(fpr_test_tf, tpr_test_tf)\n",
        "print(\"AUC Score on Test data:\",(auc_score_test_tf)*100)"
      ],
      "execution_count": 0,
      "outputs": [
        {
          "output_type": "stream",
          "text": [
            "AUC Score on Test data: 87.25253195286908\n"
          ],
          "name": "stdout"
        }
      ]
    },
    {
      "cell_type": "code",
      "metadata": {
        "id": "WNxE1OJsCMwR",
        "colab_type": "code",
        "colab": {}
      },
      "source": [
        "roc_auc_test_tf = roc_auc_score(y_test,y_pred_tf)\n",
        "fpr_test_tf,tpr_test_tf,thersholds_test_tf = roc_curve(y_test,mnb_tf.predict_proba(x_test)[:,1])\n",
        "\n",
        "roc_auc_train_tf = roc_auc_score(y_train,y_pred_train_tf)\n",
        "fpr_train,tpr_train,thersholds_train = roc_curve(y_train,mnb_tf.predict_proba(x_train)[:,1])\n"
      ],
      "execution_count": 0,
      "outputs": []
    },
    {
      "cell_type": "code",
      "metadata": {
        "id": "_bEHghdcOTDw",
        "colab_type": "code",
        "outputId": "380f4d5b-c6c0-467e-edf8-8cad17f2a164",
        "colab": {
          "base_uri": "https://localhost:8080/",
          "height": 406
        }
      },
      "source": [
        "plt.figure(figsize=(8,5))\n",
        "plt.style.use('classic')\n",
        "plt.plot(fpr_test_tf,tpr_test_tf,label='Model_MNB with Test Data (area = %.2f).'% roc_auc_test_tf)\n",
        "plt.plot(fpr_train,tpr_train,label='Model_MNB with Train Data (area = %.2f).'% roc_auc_train_tf)\n",
        "plt.plot([0,1],[0,1])\n",
        "plt.xlim([-0.05,1.05])\n",
        "plt.ylim([-0.05,1.05])\n",
        "plt.legend(loc=0)\n",
        "\n",
        "plt.xlabel('False Positive Rate')\n",
        "plt.ylabel('True Positive Rate')\n",
        "plt.title(\"RoC -AUC curve Model-2\")\n",
        "\n",
        "plt.show()"
      ],
      "execution_count": 0,
      "outputs": [
        {
          "output_type": "display_data",
          "data": {
            "image/png": "[encoded data removed]",
            "text/plain": [
              "<Figure size 640x400 with 1 Axes>"
            ]
          },
          "metadata": {
            "tags": []
          }
        }
      ]
    },
    {
      "cell_type": "code",
      "metadata": {
        "id": "4CQWdUkDOTKP",
        "colab_type": "code",
        "colab": {}
      },
      "source": [
        ""
      ],
      "execution_count": 0,
      "outputs": []
    },
    {
      "cell_type": "code",
      "metadata": {
        "id": "ntrhThhNOS_R",
        "colab_type": "code",
        "outputId": "3328746d-47ce-4818-ae26-1c029f00db23",
        "colab": {
          "base_uri": "https://localhost:8080/",
          "height": 342
        }
      },
      "source": [
        "cm=confusion_matrix(y_test,y_pred_tf)\n",
        "\n",
        "class_label = [\"negative\", \"positive\"]\n",
        "df_cm = pd.DataFrame(cm, index = class_label, columns = class_label)\n",
        "plt.figure(figsize=(5,4))\n",
        "sns.heatmap(df_cm, annot = True,cbar=False,fmt = \"d\")\n",
        "plt.title(\"Confusion Matrix\")\n",
        "plt.xlabel(\"Predicted Label\")\n",
        "plt.ylabel(\"True Label\")\n",
        "plt.show()"
      ],
      "execution_count": 0,
      "outputs": [
        {
          "output_type": "display_data",
          "data": {
            "image/png": "[encoded data removed]",
            "text/plain": [
              "<Figure size 400x320 with 1 Axes>"
            ]
          },
          "metadata": {
            "tags": []
          }
        }
      ]
    },
    {
      "cell_type": "markdown",
      "metadata": {
        "id": "cZhrO5IdPbyp",
        "colab_type": "text"
      },
      "source": [
        ""
      ]
    },
    {
      "cell_type": "markdown",
      "metadata": {
        "id": "qfeUkkIqPbeQ",
        "colab_type": "text"
      },
      "source": [
        "## Feature Importance: TF_IDF"
      ]
    },
    {
      "cell_type": "code",
      "metadata": {
        "id": "apFJeGxsPalv",
        "colab_type": "code",
        "outputId": "b1572b5e-1c30-4912-8dee-1dac0ee1317d",
        "colab": {
          "base_uri": "https://localhost:8080/",
          "height": 107
        }
      },
      "source": [
        "# Reference : https://stackoverflow.com/questions/50526898/how-to-get-feature-importance-in-naive-bayes\n",
        "\n",
        "top_negative = mnb_tf.feature_log_prob_[0, :].argsort()\n",
        "top_positive = mnb_tf.feature_log_prob_[1, :].argsort()\n",
        "\n",
        "print(\"Top 10 negative features: \",np.take(tf_idf_vect.get_feature_names(), top_negative[:10]))\n",
        "print(\"Top 10 positive features: \",np.take(tf_idf_vect.get_feature_names(), top_positive[:10]))"
      ],
      "execution_count": 0,
      "outputs": [
        {
          "output_type": "stream",
          "text": [
            "Top 10 negative features:  ['zuke' 'not time' 'drawer' 'not resist' 'not particularly'\n",
            " 'carbonated fruit' 'carbonated juice' 'not overpowering' 'not miss'\n",
            " 'not long']\n",
            "Top 10 positive features:  ['not send' 'extremely disappointed' 'made organic' 'detect' 'destroyed'\n",
            " 'thinking might' 'make taste' 'makes wonder' 'nothing wrong' 'coarse']\n"
          ],
          "name": "stdout"
        }
      ]
    },
    {
      "cell_type": "markdown",
      "metadata": {
        "id": "6kywGo6cRmdL",
        "colab_type": "text"
      },
      "source": [
        "##  Comparing the models tf-idf and Bow"
      ]
    },
    {
      "cell_type": "code",
      "metadata": {
        "id": "pKcrfHpYPait",
        "colab_type": "code",
        "outputId": "0b2c0559-7e85-419e-ba97-dab4ae1d616e",
        "colab": {
          "base_uri": "https://localhost:8080/",
          "height": 406
        }
      },
      "source": [
        "plt.figure(figsize=(8,5))\n",
        "plt.style.use('classic')\n",
        "plt.plot(fpr_test_tf,tpr_test_tf,label='Model_MNB-TF-IDF with Test Data (area = %.2f).'% roc_auc_test_tf)\n",
        "plt.plot(fpr_test,tpr_test,label='Model_MNB-BOW with Test Data (area = %.2f).'% roc_auc_test_bow)\n",
        "plt.plot([0,1],[0,1])\n",
        "plt.xlim([-0.05,1.05])\n",
        "plt.ylim([-0.05,1.05])\n",
        "plt.legend(loc=0)\n",
        "\n",
        "plt.xlabel('False Positive Rate')\n",
        "plt.ylabel('True Positive Rate')\n",
        "plt.title(\"RoC -AUC curve Models (BOW and TF_IDF)\")\n",
        "\n",
        "plt.show()"
      ],
      "execution_count": 0,
      "outputs": [
        {
          "output_type": "display_data",
          "data": {
            "image/png": "[encoded data removed]",
            "text/plain": [
              "<Figure size 640x400 with 1 Axes>"
            ]
          },
          "metadata": {
            "tags": []
          }
        }
      ]
    },
    {
      "cell_type": "code",
      "metadata": {
        "id": "uWFuKTkoRkz4",
        "colab_type": "code",
        "colab": {}
      },
      "source": [
        ""
      ],
      "execution_count": 0,
      "outputs": []
    },
    {
      "cell_type": "code",
      "metadata": {
        "id": "OSfnLuN6RlHF",
        "colab_type": "code",
        "colab": {}
      },
      "source": [
        ""
      ],
      "execution_count": 0,
      "outputs": []
    },
    {
      "cell_type": "code",
      "metadata": {
        "id": "7gEZH13dPae2",
        "colab_type": "code",
        "colab": {}
      },
      "source": [
        ""
      ],
      "execution_count": 0,
      "outputs": []
    },
    {
      "cell_type": "code",
      "metadata": {
        "id": "ePNY580WCMuQ",
        "colab_type": "code",
        "outputId": "b9d8f796-bde3-41bc-cc04-46698ebe332b",
        "colab": {
          "base_uri": "https://localhost:8080/",
          "height": 125
        }
      },
      "source": [
        "from prettytable import PrettyTable\n",
        "x = PrettyTable()\n",
        "\n",
        "x.field_names = [ \"Vectorizer\",\"Hyper Parameter( α )\", 'AUC']\n",
        "x.add_row([\"BOW\",grid_mnb_bow.best_params_['alpha'] , np.round((auc_score_test_bow)*100,2)])\n",
        "x.add_row([\"TF-IDF\", grid_mnb_tf.best_params_['alpha'],np.round((auc_score_test_tf)*100,2)])\n",
        "\n",
        "print(x)"
      ],
      "execution_count": 0,
      "outputs": [
        {
          "output_type": "stream",
          "text": [
            "+------------+----------------------+-------+\n",
            "| Vectorizer | Hyper Parameter( α ) |  AUC  |\n",
            "+------------+----------------------+-------+\n",
            "|    BOW     |         1.0          | 85.37 |\n",
            "|   TF-IDF   |         1.0          | 87.25 |\n",
            "+------------+----------------------+-------+\n"
          ],
          "name": "stdout"
        }
      ]
    },
    {
      "cell_type": "code",
      "metadata": {
        "id": "SnuGFORjPZug",
        "colab_type": "code",
        "colab": {}
      },
      "source": [
        ""
      ],
      "execution_count": 0,
      "outputs": []
    },
    {
      "cell_type": "code",
      "metadata": {
        "id": "ydpRyUNaPZqc",
        "colab_type": "code",
        "colab": {}
      },
      "source": [
        ""
      ],
      "execution_count": 0,
      "outputs": []
    },
    {
      "cell_type": "code",
      "metadata": {
        "id": "ZnBuka3ZCMsG",
        "colab_type": "code",
        "colab": {}
      },
      "source": [
        ""
      ],
      "execution_count": 0,
      "outputs": []
    }
  ]
}